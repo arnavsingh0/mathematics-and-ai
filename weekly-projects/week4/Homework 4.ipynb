{
 "cells": [
  {
   "cell_type": "code",
   "execution_count": 48,
   "id": "b3370b4e",
   "metadata": {
    "ExecuteTime": {
     "end_time": "2024-07-24T03:03:11.790382Z",
     "start_time": "2024-07-24T03:03:11.666056Z"
    }
   },
   "outputs": [],
   "source": [
    "# Homework 4 (due 07/24/2024)\n",
    "## Arnav Singh"
   ]
  },
  {
   "cell_type": "markdown",
   "id": "58735d16-cb06-47ba-ac58-c608b9d06f78",
   "metadata": {},
   "source": [
    "# Decision trees, interpretability, and algorithmic bias\n",
    "\n",
    "## Objective\n",
    "\n",
    "In this week's project, you will explore the COMPAS data set. COMPAS stands for \"Correctional Offender Management Profiling for Alternative Sanctions\". It is a software/algorithm that is used to assess the risk of a registered offender is going to commit another offense. Although researchers and journalists have pointed to [various problems](https://www.propublica.org/article/machine-bias-risk-assessments-in-criminal-sentencing) of this algorithm over many years, the algorithm is still used to inform sentences and parole decisions in several US states. \n",
    "You can learn more about the COMPAS data set [here](https://www.propublica.org/datastore/dataset/compas-recidivism-risk-score-data-and-analysis). \n",
    "\n",
    "Through this project, you will practice fitting and validating several classification models and you will explore some distinct benefits of using decision trees in machine learning. As part of that exploration, you are going to audit your model for demographic biases via a \"closed box\" and an \"open box\" approach.\n",
    "\n",
    "The COMPAS data set is a favorite example among critics of machine learning because it demonstrates several shortcomings and failure modes of machine learning techniques. The lessons learned from this project might be discouraging, and they are important. Keep in mind, however, that what you see here does not generalize to all data sets. \n",
    "\n",
    "This project has four parts.\n",
    "\n",
    "### Part 1: Prepare the COMPAS data set  (PARTIALLY YOU TO COMPLETE)\n",
    "\n",
    "In this part, you will load the COMPAS data set, explore its content, and select several variables as features (i.e., queries) or class labels (i.e., responses). Some of these features are not numerical, so you will need to replace some categorical values with zeros and ones. Your features will include categorical variable with more than two categories. You will uses 1-hot encoding to include this feature in your data set. \n",
    "\n",
    "This part includes four steps:\n",
    "1. Load and explore data set\n",
    "2. Select features and response variables\n",
    "3. Construct numerical coding for categorical features\n",
    "4. Split the data\n",
    "\n",
    "### Part 2: Train and validate a decision tree  (PARTIALLY YOU TO COMPLETE)\n",
    "\n",
    "In this part, you will fit a decision tree to your data. You will examine the effect of tuning the complexity of the tree via the \"maximum number of leaves\" parameter and use 5-fold cross-validation to find an optimal value.\n",
    "\n",
    "This part includes three steps:\n",
    "\n",
    "1. Fit a decision tree on the training data\n",
    "2. Tune the parameter \"maximum number of leaves\"\n",
    "3. Calculate the selected model's test performance\n",
    "\n",
    "\n",
    "### Part 3: Auditing a decision tree for demographic biases  (PARTIALLY YOU TO COMPLETE)\n",
    "\n",
    "Your training data includes several demographic variables (i.e., age, sex, race). A crude way to assess whether a model has some demographic bias is to remove the corresponding variables from your training data and explore how that removal affects your model's performance. Decision trees have the advantage of being interpretable machine learning models. By going through the decision nodes (i.e., branching points), you can \"open the black box and look inside\". Specifically, you can assess how each feature is used in the decision making process.\n",
    "\n",
    "This part includes three steps:\n",
    "\n",
    "1. Fit a decision tree\n",
    "2. Check for racial bias via performance assessment\n",
    "3. Check for racial bias via decision rules\n",
    "\n",
    "### Part 4: Comparison to other linear classifiers (FOR YOU TO COMPLETE)\n",
    "\n",
    "For some types of data, decision trees tend to achieve lower prediction accuracies In this part, you will train and tune several classifiers on the COMPAS data. You will then compare their performance on your test set.\n",
    "\n",
    "This part includes three steps:\n",
    "\n",
    "1. Fit LDA and logistic regression\n",
    "2. Tune and fit ensemble methods\n",
    "3. Tune and fit SVC\n",
    "4. Compare performance metrics for all models "
   ]
  },
  {
   "cell_type": "code",
   "execution_count": 49,
   "id": "bf61d6ee-6086-420a-a1b3-9002b2d292b2",
   "metadata": {
    "ExecuteTime": {
     "end_time": "2024-07-24T03:03:11.802104Z",
     "start_time": "2024-07-24T03:03:11.791677Z"
    }
   },
   "outputs": [],
   "source": [
    "import pandas as pd\n",
    "from matplotlib import pyplot as plt\n",
    "import numpy as np\n",
    "from sklearn.model_selection import train_test_split, cross_val_score\n",
    "from sklearn.tree import DecisionTreeClassifier, export_text\n",
    "from sklearn.ensemble import RandomForestClassifier, BaggingClassifier, GradientBoostingClassifier\n",
    "from sklearn.svm import SVC"
   ]
  },
  {
   "cell_type": "markdown",
   "id": "a0b14b03-f395-4bb0-abce-f67293c4a5db",
   "metadata": {},
   "source": [
    "## Part 1: Prepare the COMPAS data set\n",
    "\n",
    ">In this part, you will load the COMPAS data set, explore its content, and select several variables as features (i.e., queries) or class labels (i.e., responses). Some of these features are not numerical, so you will need to replace some categorical values with zeros and ones. Your features will include categorical variable with more than two categories. You will uses 1-hot encoding to include this feature in your data set.\n",
    ">\n",
    ">This part includes four steps:\n",
    ">1. Load and explore data set\n",
    ">2. Select features and response variables\n",
    ">3. Construct numerical coding for categorical features\n",
    ">4. Split the data\n",
    "\n",
    "\n",
    "\n",
    "### Part 1, Step 1: Load and explore data set\n",
    "\n",
    "This folder includes the 'compas-scores-two-years.csv' file. The COMPAS data that you will use for this project is in this file. It is always a good idea to look at the raw data before proceeding with one's machine learning pipeline."
   ]
  },
  {
   "cell_type": "code",
   "execution_count": 50,
   "id": "1f35e4e7-8eab-44b2-a03f-5ed100f53516",
   "metadata": {
    "ExecuteTime": {
     "end_time": "2024-07-24T03:03:11.898239Z",
     "start_time": "2024-07-24T03:03:11.810284Z"
    }
   },
   "outputs": [
    {
     "name": "stdout",
     "output_type": "stream",
     "text": [
      "Index(['id', 'name', 'first', 'last', 'compas_screening_date', 'sex', 'dob',\n",
      "       'age', 'age_cat', 'race', 'juv_fel_count', 'decile_score',\n",
      "       'juv_misd_count', 'juv_other_count', 'priors_count',\n",
      "       'days_b_screening_arrest', 'c_jail_in', 'c_jail_out', 'c_case_number',\n",
      "       'c_offense_date', 'c_arrest_date', 'c_days_from_compas',\n",
      "       'c_charge_degree', 'c_charge_desc', 'is_recid', 'r_case_number',\n",
      "       'r_charge_degree', 'r_days_from_arrest', 'r_offense_date',\n",
      "       'r_charge_desc', 'r_jail_in', 'r_jail_out', 'violent_recid',\n",
      "       'is_violent_recid', 'vr_case_number', 'vr_charge_degree',\n",
      "       'vr_offense_date', 'vr_charge_desc', 'type_of_assessment',\n",
      "       'decile_score.1', 'score_text', 'screening_date',\n",
      "       'v_type_of_assessment', 'v_decile_score', 'v_score_text',\n",
      "       'v_screening_date', 'in_custody', 'out_custody', 'priors_count.1',\n",
      "       'start', 'end', 'event', 'two_year_recid'],\n",
      "      dtype='object')\n"
     ]
    },
    {
     "data": {
      "text/plain": "   id                name   first         last compas_screening_date   sex  \\\n0   1    miguel hernandez  miguel    hernandez            2013-08-14  Male   \n1   3         kevon dixon   kevon        dixon            2013-01-27  Male   \n2   4            ed philo      ed        philo            2013-04-14  Male   \n3   5         marcu brown   marcu        brown            2013-01-13  Male   \n4   6  bouthy pierrelouis  bouthy  pierrelouis            2013-03-26  Male   \n\n          dob  age          age_cat              race  ...  v_decile_score  \\\n0  1947-04-18   69  Greater than 45             Other  ...               1   \n1  1982-01-22   34          25 - 45  African-American  ...               1   \n2  1991-05-14   24     Less than 25  African-American  ...               3   \n3  1993-01-21   23     Less than 25  African-American  ...               6   \n4  1973-01-22   43          25 - 45             Other  ...               1   \n\n   v_score_text  v_screening_date  in_custody  out_custody  priors_count.1  \\\n0           Low        2013-08-14  2014-07-07   2014-07-14               0   \n1           Low        2013-01-27  2013-01-26   2013-02-05               0   \n2           Low        2013-04-14  2013-06-16   2013-06-16               4   \n3        Medium        2013-01-13         NaN          NaN               1   \n4           Low        2013-03-26         NaN          NaN               2   \n\n  start   end event two_year_recid  \n0     0   327     0              0  \n1     9   159     1              1  \n2     0    63     0              1  \n3     0  1174     0              0  \n4     0  1102     0              0  \n\n[5 rows x 53 columns]",
      "text/html": "<div>\n<style scoped>\n    .dataframe tbody tr th:only-of-type {\n        vertical-align: middle;\n    }\n\n    .dataframe tbody tr th {\n        vertical-align: top;\n    }\n\n    .dataframe thead th {\n        text-align: right;\n    }\n</style>\n<table border=\"1\" class=\"dataframe\">\n  <thead>\n    <tr style=\"text-align: right;\">\n      <th></th>\n      <th>id</th>\n      <th>name</th>\n      <th>first</th>\n      <th>last</th>\n      <th>compas_screening_date</th>\n      <th>sex</th>\n      <th>dob</th>\n      <th>age</th>\n      <th>age_cat</th>\n      <th>race</th>\n      <th>...</th>\n      <th>v_decile_score</th>\n      <th>v_score_text</th>\n      <th>v_screening_date</th>\n      <th>in_custody</th>\n      <th>out_custody</th>\n      <th>priors_count.1</th>\n      <th>start</th>\n      <th>end</th>\n      <th>event</th>\n      <th>two_year_recid</th>\n    </tr>\n  </thead>\n  <tbody>\n    <tr>\n      <th>0</th>\n      <td>1</td>\n      <td>miguel hernandez</td>\n      <td>miguel</td>\n      <td>hernandez</td>\n      <td>2013-08-14</td>\n      <td>Male</td>\n      <td>1947-04-18</td>\n      <td>69</td>\n      <td>Greater than 45</td>\n      <td>Other</td>\n      <td>...</td>\n      <td>1</td>\n      <td>Low</td>\n      <td>2013-08-14</td>\n      <td>2014-07-07</td>\n      <td>2014-07-14</td>\n      <td>0</td>\n      <td>0</td>\n      <td>327</td>\n      <td>0</td>\n      <td>0</td>\n    </tr>\n    <tr>\n      <th>1</th>\n      <td>3</td>\n      <td>kevon dixon</td>\n      <td>kevon</td>\n      <td>dixon</td>\n      <td>2013-01-27</td>\n      <td>Male</td>\n      <td>1982-01-22</td>\n      <td>34</td>\n      <td>25 - 45</td>\n      <td>African-American</td>\n      <td>...</td>\n      <td>1</td>\n      <td>Low</td>\n      <td>2013-01-27</td>\n      <td>2013-01-26</td>\n      <td>2013-02-05</td>\n      <td>0</td>\n      <td>9</td>\n      <td>159</td>\n      <td>1</td>\n      <td>1</td>\n    </tr>\n    <tr>\n      <th>2</th>\n      <td>4</td>\n      <td>ed philo</td>\n      <td>ed</td>\n      <td>philo</td>\n      <td>2013-04-14</td>\n      <td>Male</td>\n      <td>1991-05-14</td>\n      <td>24</td>\n      <td>Less than 25</td>\n      <td>African-American</td>\n      <td>...</td>\n      <td>3</td>\n      <td>Low</td>\n      <td>2013-04-14</td>\n      <td>2013-06-16</td>\n      <td>2013-06-16</td>\n      <td>4</td>\n      <td>0</td>\n      <td>63</td>\n      <td>0</td>\n      <td>1</td>\n    </tr>\n    <tr>\n      <th>3</th>\n      <td>5</td>\n      <td>marcu brown</td>\n      <td>marcu</td>\n      <td>brown</td>\n      <td>2013-01-13</td>\n      <td>Male</td>\n      <td>1993-01-21</td>\n      <td>23</td>\n      <td>Less than 25</td>\n      <td>African-American</td>\n      <td>...</td>\n      <td>6</td>\n      <td>Medium</td>\n      <td>2013-01-13</td>\n      <td>NaN</td>\n      <td>NaN</td>\n      <td>1</td>\n      <td>0</td>\n      <td>1174</td>\n      <td>0</td>\n      <td>0</td>\n    </tr>\n    <tr>\n      <th>4</th>\n      <td>6</td>\n      <td>bouthy pierrelouis</td>\n      <td>bouthy</td>\n      <td>pierrelouis</td>\n      <td>2013-03-26</td>\n      <td>Male</td>\n      <td>1973-01-22</td>\n      <td>43</td>\n      <td>25 - 45</td>\n      <td>Other</td>\n      <td>...</td>\n      <td>1</td>\n      <td>Low</td>\n      <td>2013-03-26</td>\n      <td>NaN</td>\n      <td>NaN</td>\n      <td>2</td>\n      <td>0</td>\n      <td>1102</td>\n      <td>0</td>\n      <td>0</td>\n    </tr>\n  </tbody>\n</table>\n<p>5 rows × 53 columns</p>\n</div>"
     },
     "execution_count": 50,
     "metadata": {},
     "output_type": "execute_result"
    }
   ],
   "source": [
    "# load data\n",
    "raw_data = pd.read_csv('compas-scores-two-years.csv') # downloaded the dataset\n",
    "# print a list of variable names\n",
    "print(raw_data.columns)\n",
    "# look at the first 5 rows \n",
    "raw_data.head(5)"
   ]
  },
  {
   "cell_type": "markdown",
   "id": "8bc0cb9b-f285-4da2-8c5e-bd3af43ee4d7",
   "metadata": {},
   "source": [
    "The data set includes 53 variables. There are different types of information. Some variables\n",
    "* personal data (e.g., name, first name (\"first\"), last name (\"last\")) \n",
    "* demographic data (i.e., sex, age, age category (\"age_cat\"), and race)\n",
    "* related to the person's history of commited offenses (e.g., juvenile felony count (\"juv_fel_count\"), juvenile misdemeanor count (\"juv_misd_count\"), and prior offenses count (\"priors-count\"))\n",
    "* related to the charge against the person (e.g., charge offense date (\"c_offense_date\"), charge arrest date (\"c_arrest_date\"), charge degree (\"c_charge_degree\"), and description of charge (\"c_charge_desc\"))\n",
    "* recidivism scores assigned by the COMPAS algorithm (e.g., \"decile_score\", \"score_text\", \"v_decile_score\", \"v_score_text\")\n",
    "* related to an actual recidivism charge (e.g., degree of recidivism charge (\"r_charge_degree\"), data of recidivism offense (\"r_offense_date\"), description of recidivism charge (\"r_charge_desc\"))\n",
    "* related to an actual violent recidivism charge (e.g., degree of violent recidivism charge (\"vr_charge_degree\"), data of violent recidivism offense (\"vr_offense_date\"), description of violent recidivism charge (\"vr_charge_desc\")).\n",
    "\n",
    "### Part 1, Step 2: Select features and response variables\n",
    "\n",
    "The ProPublica article was assessing bias in the COMPAS scores. Here, you will ignore the COMPAS scores and instead explore the challenges of predicting recidivism based on the survey data. What variables seem like sensible predictors? What variables would be sensible outcome variables? The code in the cell below selects some numerical and categorical variables for you to include in your model."
   ]
  },
  {
   "cell_type": "code",
   "execution_count": 51,
   "id": "f2fcba38-1f99-4723-96d2-ddf46ac7f7da",
   "metadata": {
    "ExecuteTime": {
     "end_time": "2024-07-24T03:03:11.898786Z",
     "start_time": "2024-07-24T03:03:11.880689Z"
    }
   },
   "outputs": [],
   "source": [
    "# Select features and response variables\n",
    "\n",
    "# Features by type\n",
    "numerical_features = ['juv_misd_count', 'juv_other_count', 'juv_fel_count', \n",
    "    'priors_count', 'age']\n",
    "binary_categorical_features = ['sex', 'c_charge_degree']\n",
    "other_categorical_features = ['race']\n",
    "all_features = binary_categorical_features + other_categorical_features + numerical_features\n",
    "\n",
    "# Possible response variables\n",
    "response_variables = ['is_recid', 'is_violent_recid', 'two_year_recid']\n",
    "\n",
    "# Variables that are used for data cleaning\n",
    "check_variables = ['days_b_screening_arrest']"
   ]
  },
  {
   "cell_type": "markdown",
   "id": "29b0cbaa-0a7b-46bf-a6d6-25f7c13fc1c7",
   "metadata": {},
   "source": [
    "ProPublica filtered some observations (i.e., rows in the data frame). See their explanation below. Let's follow their procedure.\n",
    "\n",
    "\n",
    "> There are a number of reasons remove rows because of missing data:\n",
    ">\n",
    "> * If the charge date of a defendants Compas scored crime was not within 30 days from when the person was arrested, we assume that because of data quality reasons, that we do not have the right offense.\n",
    "> * We coded the recidivist flag -- is_recid -- to be -1 if we could not find a compas case at all.\n",
    "> * In a similar vein, ordinary traffic offenses -- those with a c_charge_degree of 'O' -- will not result in Jail time are removed (only two of them).\n",
    "> * We filtered the underlying data from Broward county to include only those rows representing people who had either recidivated in two years, or had at least two years outside of a correctional facility.\n"
   ]
  },
  {
   "cell_type": "code",
   "execution_count": 52,
   "id": "e11c07da-04e6-42be-b407-31569d56fbcd",
   "metadata": {
    "ExecuteTime": {
     "end_time": "2024-07-24T03:03:11.899376Z",
     "start_time": "2024-07-24T03:03:11.886919Z"
    }
   },
   "outputs": [
    {
     "name": "stdout",
     "output_type": "stream",
     "text": [
      "Dataframe has 6172 rows and 11 columns.\n"
     ]
    }
   ],
   "source": [
    "# Subselect data\n",
    "df = raw_data[all_features+response_variables+check_variables]\n",
    "\n",
    "# Apply filters\n",
    "df = df[(df['days_b_screening_arrest'] <= 30) & \n",
    "        (df['days_b_screening_arrest'] >= -30) & \n",
    "        (df['is_recid'] != -1) & \n",
    "        (df['c_charge_degree'] != 'O')]\n",
    "\n",
    "df = df[all_features+response_variables]\n",
    "print('Dataframe has {} rows and {} columns.'.format(df.shape[0], df.shape[1]))"
   ]
  },
  {
   "cell_type": "markdown",
   "id": "3c24fa48-c751-4786-b0d6-54a25be38350",
   "metadata": {},
   "source": [
    "### Part 1, Step 3: Construct numerical coding for categorical features\n",
    "\n",
    "Some of these features in the subselected data are not numerical, so you will need to replace some categorical values with zeros and ones. Your features will include \"race\", which was surveyed as a one categorical variable with more than two categories. You will uses [1-hot encoding](https://en.wikipedia.org/wiki/One-hot) to include this feature in your data set. "
   ]
  },
  {
   "cell_type": "code",
   "execution_count": 53,
   "id": "a0fdd6d1-8ead-41ff-a9e6-6ce9149fc545",
   "metadata": {
    "ExecuteTime": {
     "end_time": "2024-07-24T03:03:11.908840Z",
     "start_time": "2024-07-24T03:03:11.894059Z"
    }
   },
   "outputs": [
    {
     "name": "stdout",
     "output_type": "stream",
     "text": [
      "Replace Female with 0.\n",
      "Replace Male with 1.\n",
      "Replace M with 0.\n",
      "Replace F with 1.\n"
     ]
    }
   ],
   "source": [
    "# Code binary features as 0 and 1\n",
    "for x in binary_categorical_features:\n",
    "    for new_value, value in enumerate(set(df[x])):\n",
    "        print(\"Replace {} with {}.\".format(value, new_value))\n",
    "        df = df.replace(value, new_value)"
   ]
  },
  {
   "cell_type": "code",
   "execution_count": 54,
   "id": "f026e54b-d977-4ee3-93b8-d47703af9213",
   "metadata": {
    "ExecuteTime": {
     "end_time": "2024-07-24T03:03:11.953219Z",
     "start_time": "2024-07-24T03:03:11.908012Z"
    }
   },
   "outputs": [
    {
     "data": {
      "text/plain": "    sex  c_charge_degree              race  race_is_African-American  \\\n0     1                1             Other                     False   \n1     1                1  African-American                      True   \n2     1                1  African-American                      True   \n5     1                0             Other                     False   \n6     1                1         Caucasian                     False   \n7     1                1             Other                     False   \n8     0                0         Caucasian                     False   \n10    1                1         Caucasian                     False   \n11    1                0  African-American                      True   \n12    0                0         Caucasian                     False   \n\n    race_is_Asian  race_is_Caucasian  race_is_Native American  race_is_Other  \\\n0           False              False                    False           True   \n1           False              False                    False          False   \n2           False              False                    False          False   \n5           False              False                    False           True   \n6           False               True                    False          False   \n7           False              False                    False           True   \n8           False               True                    False          False   \n10          False               True                    False          False   \n11          False              False                    False          False   \n12          False               True                    False          False   \n\n    race_is_Hispanic  juv_misd_count  juv_other_count  juv_fel_count  \\\n0              False               0                0              0   \n1              False               0                0              0   \n2              False               0                1              0   \n5              False               0                0              0   \n6              False               0                0              0   \n7              False               0                0              0   \n8              False               0                0              0   \n10             False               0                0              0   \n11             False               0                0              0   \n12             False               0                0              0   \n\n    priors_count  age  is_recid  is_violent_recid  two_year_recid  \n0              0   69         0                 0               0  \n1              0   34         1                 1               1  \n2              4   24         1                 0               1  \n5              0   44         0                 0               0  \n6             14   41         1                 0               1  \n7              3   43         0                 0               0  \n8              0   39         0                 0               0  \n10             0   27         0                 0               0  \n11             3   23         1                 0               1  \n12             0   37         0                 0               0  ",
      "text/html": "<div>\n<style scoped>\n    .dataframe tbody tr th:only-of-type {\n        vertical-align: middle;\n    }\n\n    .dataframe tbody tr th {\n        vertical-align: top;\n    }\n\n    .dataframe thead th {\n        text-align: right;\n    }\n</style>\n<table border=\"1\" class=\"dataframe\">\n  <thead>\n    <tr style=\"text-align: right;\">\n      <th></th>\n      <th>sex</th>\n      <th>c_charge_degree</th>\n      <th>race</th>\n      <th>race_is_African-American</th>\n      <th>race_is_Asian</th>\n      <th>race_is_Caucasian</th>\n      <th>race_is_Native American</th>\n      <th>race_is_Other</th>\n      <th>race_is_Hispanic</th>\n      <th>juv_misd_count</th>\n      <th>juv_other_count</th>\n      <th>juv_fel_count</th>\n      <th>priors_count</th>\n      <th>age</th>\n      <th>is_recid</th>\n      <th>is_violent_recid</th>\n      <th>two_year_recid</th>\n    </tr>\n  </thead>\n  <tbody>\n    <tr>\n      <th>0</th>\n      <td>1</td>\n      <td>1</td>\n      <td>Other</td>\n      <td>False</td>\n      <td>False</td>\n      <td>False</td>\n      <td>False</td>\n      <td>True</td>\n      <td>False</td>\n      <td>0</td>\n      <td>0</td>\n      <td>0</td>\n      <td>0</td>\n      <td>69</td>\n      <td>0</td>\n      <td>0</td>\n      <td>0</td>\n    </tr>\n    <tr>\n      <th>1</th>\n      <td>1</td>\n      <td>1</td>\n      <td>African-American</td>\n      <td>True</td>\n      <td>False</td>\n      <td>False</td>\n      <td>False</td>\n      <td>False</td>\n      <td>False</td>\n      <td>0</td>\n      <td>0</td>\n      <td>0</td>\n      <td>0</td>\n      <td>34</td>\n      <td>1</td>\n      <td>1</td>\n      <td>1</td>\n    </tr>\n    <tr>\n      <th>2</th>\n      <td>1</td>\n      <td>1</td>\n      <td>African-American</td>\n      <td>True</td>\n      <td>False</td>\n      <td>False</td>\n      <td>False</td>\n      <td>False</td>\n      <td>False</td>\n      <td>0</td>\n      <td>1</td>\n      <td>0</td>\n      <td>4</td>\n      <td>24</td>\n      <td>1</td>\n      <td>0</td>\n      <td>1</td>\n    </tr>\n    <tr>\n      <th>5</th>\n      <td>1</td>\n      <td>0</td>\n      <td>Other</td>\n      <td>False</td>\n      <td>False</td>\n      <td>False</td>\n      <td>False</td>\n      <td>True</td>\n      <td>False</td>\n      <td>0</td>\n      <td>0</td>\n      <td>0</td>\n      <td>0</td>\n      <td>44</td>\n      <td>0</td>\n      <td>0</td>\n      <td>0</td>\n    </tr>\n    <tr>\n      <th>6</th>\n      <td>1</td>\n      <td>1</td>\n      <td>Caucasian</td>\n      <td>False</td>\n      <td>False</td>\n      <td>True</td>\n      <td>False</td>\n      <td>False</td>\n      <td>False</td>\n      <td>0</td>\n      <td>0</td>\n      <td>0</td>\n      <td>14</td>\n      <td>41</td>\n      <td>1</td>\n      <td>0</td>\n      <td>1</td>\n    </tr>\n    <tr>\n      <th>7</th>\n      <td>1</td>\n      <td>1</td>\n      <td>Other</td>\n      <td>False</td>\n      <td>False</td>\n      <td>False</td>\n      <td>False</td>\n      <td>True</td>\n      <td>False</td>\n      <td>0</td>\n      <td>0</td>\n      <td>0</td>\n      <td>3</td>\n      <td>43</td>\n      <td>0</td>\n      <td>0</td>\n      <td>0</td>\n    </tr>\n    <tr>\n      <th>8</th>\n      <td>0</td>\n      <td>0</td>\n      <td>Caucasian</td>\n      <td>False</td>\n      <td>False</td>\n      <td>True</td>\n      <td>False</td>\n      <td>False</td>\n      <td>False</td>\n      <td>0</td>\n      <td>0</td>\n      <td>0</td>\n      <td>0</td>\n      <td>39</td>\n      <td>0</td>\n      <td>0</td>\n      <td>0</td>\n    </tr>\n    <tr>\n      <th>10</th>\n      <td>1</td>\n      <td>1</td>\n      <td>Caucasian</td>\n      <td>False</td>\n      <td>False</td>\n      <td>True</td>\n      <td>False</td>\n      <td>False</td>\n      <td>False</td>\n      <td>0</td>\n      <td>0</td>\n      <td>0</td>\n      <td>0</td>\n      <td>27</td>\n      <td>0</td>\n      <td>0</td>\n      <td>0</td>\n    </tr>\n    <tr>\n      <th>11</th>\n      <td>1</td>\n      <td>0</td>\n      <td>African-American</td>\n      <td>True</td>\n      <td>False</td>\n      <td>False</td>\n      <td>False</td>\n      <td>False</td>\n      <td>False</td>\n      <td>0</td>\n      <td>0</td>\n      <td>0</td>\n      <td>3</td>\n      <td>23</td>\n      <td>1</td>\n      <td>0</td>\n      <td>1</td>\n    </tr>\n    <tr>\n      <th>12</th>\n      <td>0</td>\n      <td>0</td>\n      <td>Caucasian</td>\n      <td>False</td>\n      <td>False</td>\n      <td>True</td>\n      <td>False</td>\n      <td>False</td>\n      <td>False</td>\n      <td>0</td>\n      <td>0</td>\n      <td>0</td>\n      <td>0</td>\n      <td>37</td>\n      <td>0</td>\n      <td>0</td>\n      <td>0</td>\n    </tr>\n  </tbody>\n</table>\n</div>"
     },
     "execution_count": 54,
     "metadata": {},
     "output_type": "execute_result"
    }
   ],
   "source": [
    "# Use 1-hot encoding for other categorical variables ## Makes it like boolean, for each category. \n",
    "one_hot_features = []\n",
    "for x in other_categorical_features:\n",
    "    for new_feature, value in enumerate(set(df[x])):\n",
    "        feature_name = \"{}_is_{}\".format(x,value)\n",
    "        df.insert(3, feature_name, df[x]==value)\n",
    "        one_hot_features += [feature_name]\n",
    "\n",
    "# Check what the data frame looks like now\n",
    "df.head(10)"
   ]
  },
  {
   "cell_type": "markdown",
   "id": "731b3c0b-4322-4ec6-80c8-da10665dc72b",
   "metadata": {},
   "source": [
    "### Part 1, Step 4: Split the data\n",
    "\n",
    "Let's collect the features in one data frame and the responses in another data frame. After that, you will set a small portion of the data set aside for testing."
   ]
  },
  {
   "cell_type": "code",
   "execution_count": 55,
   "id": "d9ea639f-feff-4bf2-ae40-4bfb6714cf8e",
   "metadata": {
    "ExecuteTime": {
     "end_time": "2024-07-24T03:03:11.953722Z",
     "start_time": "2024-07-24T03:03:11.915270Z"
    }
   },
   "outputs": [],
   "source": [
    "# list of features\n",
    "features = numerical_features + binary_categorical_features + one_hot_features\n",
    "\n",
    "# features data frame\n",
    "X = df[features]\n",
    "\n",
    "# responses data frame\n",
    "Y = df[response_variables]\n",
    "\n",
    "# Split the data into a training set containing 90% of the data\n",
    "# and test set containing 10% of the data\n",
    "'''ADD SOME CODE HERE'''\n",
    "x_train, x_test, y_train, y_test = train_test_split(X, Y, test_size=0.1)"
   ]
  },
  {
   "cell_type": "markdown",
   "id": "db0556fa-cd30-439d-b671-80e165cfa5d2",
   "metadata": {},
   "source": [
    "# Part 2: Train and validate a decision tree\n",
    "\n",
    ">In this part, you will fit a decision tree to your data. You will examine the effect of tuning the complexity of the tree via the \"maximum number of leaves\" parameter and use 5-fold cross-validation to find an optimal value.\n",
    ">\n",
    ">This part includes three steps:\n",
    ">\n",
    ">1. Fit a decision tree on the training data\n",
    ">2. Tune the parameter \"maximum number of leaves\"\n",
    ">3. Calculate the selected model's test performance\n",
    "\n",
    "### Part 2, Step 1: Fit a decision tree on the training data\n",
    "\n",
    "Start by fitting a decision tree to your training data. Assess its training accuracy and its size."
   ]
  },
  {
   "cell_type": "code",
   "execution_count": 56,
   "id": "11c2b97d-2348-4e7b-b008-92b99665e9c1",
   "metadata": {
    "ExecuteTime": {
     "end_time": "2024-07-24T03:03:12.006043Z",
     "start_time": "2024-07-24T03:03:11.918953Z"
    }
   },
   "outputs": [
    {
     "name": "stdout",
     "output_type": "stream",
     "text": [
      "Trained decision tree with 2044 leaves and training accuracy 0.79.\n"
     ]
    }
   ],
   "source": [
    "# Create a model\n",
    "'''ADD SOME CODE HERE'''\n",
    "dtc = DecisionTreeClassifier()\n",
    "    \n",
    "# Fit model to training data\n",
    "'''ADD SOME CODE HERE'''\n",
    "dtc.fit(x_train, y_train)\n",
    "\n",
    "# Evaluate training accuracy\n",
    "'''ADD SOME CODE HERE'''\n",
    "from sklearn.metrics import accuracy_score #importing\n",
    "train_results = dtc.predict(x_train)\n",
    "accuracy = accuracy_score(y_train, train_results)\n",
    "\n",
    "# Check size of decision tree\n",
    "num_leaves = dtc.get_n_leaves()\n",
    "\n",
    "# Report results\n",
    "print('Trained decision tree with {} leaves and training accuracy {:.2f}.'.format(num_leaves, accuracy))"
   ]
  },
  {
   "cell_type": "markdown",
   "id": "881e0628-df55-49f3-a00a-123ca44baa98",
   "metadata": {},
   "source": [
    "Your tree has a good training accuracy for the standards of tabular data prediction problems, but its size is enormous! It has so many leaves, that on average every 3 to 4 training observations get a leaf to themselves. It is very probable that this tree is overfitting.\n",
    "\n",
    "### Part 2, Step 2: Tune the parameter \"maximum number of leaves\"\n",
    "\n",
    "Let's try to constrain the complexity of a decision tree during training by setting a value for the argument ``maximum number of leaves``. You can use the sci-kit learn's `cross_val_score` function to quickly assess the out-of-sample performance of trees of varying complexity."
   ]
  },
  {
   "cell_type": "code",
   "execution_count": 57,
   "id": "e0668136-b649-4b42-be6b-e360ff7d2f22",
   "metadata": {
    "ExecuteTime": {
     "end_time": "2024-07-24T03:03:15.099313Z",
     "start_time": "2024-07-24T03:03:11.942524Z"
    }
   },
   "outputs": [
    {
     "name": "stdout",
     "output_type": "stream",
     "text": [
      "Leaves\tMean accuracy\n",
      "---------------------\n",
      "0\t0.557\n",
      "1\t0.557\n",
      "2\t0.565\n",
      "3\t0.564\n",
      "4\t0.550\n",
      "5\t0.586\n",
      "6\t0.588\n",
      "7\t0.588\n",
      "8\t0.592\n",
      "9\t0.591\n",
      "10\t0.580\n",
      "11\t0.580\n",
      "12\t0.581\n",
      "13\t0.578\n",
      "14\t0.580\n",
      "15\t0.578\n",
      "16\t0.578\n",
      "17\t0.575\n",
      "18\t0.575\n",
      "19\t0.572\n",
      "20\t0.573\n",
      "21\t0.575\n",
      "22\t0.586\n",
      "23\t0.586\n",
      "24\t0.586\n",
      "25\t0.583\n",
      "26\t0.577\n",
      "27\t0.580\n",
      "28\t0.578\n",
      "29\t0.582\n",
      "30\t0.582\n",
      "31\t0.581\n",
      "32\t0.580\n",
      "33\t0.585\n",
      "34\t0.583\n",
      "35\t0.583\n",
      "36\t0.583\n",
      "37\t0.583\n",
      "38\t0.583\n",
      "39\t0.582\n",
      "40\t0.582\n",
      "41\t0.582\n",
      "42\t0.582\n",
      "43\t0.582\n",
      "44\t0.581\n",
      "45\t0.581\n",
      "46\t0.579\n",
      "47\t0.580\n",
      "48\t0.579\n",
      "49\t0.579\n",
      "50\t0.579\n",
      "51\t0.579\n",
      "52\t0.579\n",
      "53\t0.579\n",
      "54\t0.580\n",
      "55\t0.579\n",
      "56\t0.579\n",
      "57\t0.578\n",
      "58\t0.579\n",
      "59\t0.579\n",
      "60\t0.578\n",
      "61\t0.578\n",
      "62\t0.578\n",
      "63\t0.578\n",
      "64\t0.578\n",
      "65\t0.578\n",
      "66\t0.578\n",
      "67\t0.577\n",
      "68\t0.577\n",
      "69\t0.577\n",
      "70\t0.575\n",
      "71\t0.575\n",
      "72\t0.575\n",
      "73\t0.575\n",
      "74\t0.575\n",
      "75\t0.573\n",
      "76\t0.573\n",
      "77\t0.574\n",
      "78\t0.573\n",
      "79\t0.573\n",
      "80\t0.573\n",
      "81\t0.573\n",
      "82\t0.574\n",
      "83\t0.572\n",
      "84\t0.572\n",
      "85\t0.574\n",
      "86\t0.573\n",
      "87\t0.571\n",
      "88\t0.572\n",
      "89\t0.571\n",
      "90\t0.572\n",
      "91\t0.571\n",
      "92\t0.570\n",
      "93\t0.571\n",
      "94\t0.572\n",
      "95\t0.573\n",
      "96\t0.573\n",
      "97\t0.572\n",
      "98\t0.574\n",
      "99\t0.574\n"
     ]
    }
   ],
   "source": [
    "# Perform 5-fold cross-validation for different tree sizes\n",
    "\n",
    "print('Leaves\\tMean accuracy')\n",
    "print('---------------------')\n",
    "for num_leaves in range(0,100,1): #changed the range, as >100 is worse the <100 accuracy wise\n",
    "\n",
    "    # Trees must have at least 2 leaves\n",
    "    if num_leaves >= 2:\n",
    "\n",
    "        # construct a classifier with a limit on its number of leaves\n",
    "        '''ADD SOME CODE HERE'''\n",
    "        dtc = DecisionTreeClassifier(max_leaf_nodes=num_leaves)\n",
    "\n",
    "        # Get validation accuracy via 5-fold cross-validation\n",
    "        scores = cross_val_score(dtc, x_train, y_train, cv=5, scoring='accuracy') #cv=5 means 5-fold cross validation\n",
    "    \n",
    "    print(\"{}\\t{:.3f}\".format(num_leaves,scores.mean()))"
   ]
  },
  {
   "cell_type": "markdown",
   "id": "9a46824a-f7f5-4408-94fb-8c463c5a7e0f",
   "metadata": {},
   "source": [
    "Adjust the range of values for `max_leaf_nodes` in the cell above, to identify the best value.\n",
    "- Looking at the range of values, it looks like 6 is the best accuracy\n",
    "\n",
    "### Part 2, Step 3: Calculate the selected model's test performance\n",
    "\n",
    "Train a decision tree using your selected value of `max_leaf_nodes` on the full training set. Assess its accuracy on your test set."
   ]
  },
  {
   "cell_type": "code",
   "execution_count": 58,
   "id": "502349cb-63ee-4146-8c5e-f58b26241165",
   "metadata": {
    "ExecuteTime": {
     "end_time": "2024-07-24T03:03:15.110401Z",
     "start_time": "2024-07-24T03:03:15.100811Z"
    }
   },
   "outputs": [
    {
     "name": "stdout",
     "output_type": "stream",
     "text": [
      "Trained decision tree with 0.59921 accuracy\n",
      "Trained decision tree with 6 leaves and test accuracy 0.60.\n"
     ]
    }
   ],
   "source": [
    "# Create a model\n",
    "'''ADD SOME CODE HERE'''\n",
    "dtc2 = DecisionTreeClassifier(max_leaf_nodes=6)    \n",
    "# Fit model to training data\n",
    "'''ADD SOME CODE HERE'''\n",
    "dtc2.fit(x_train, y_train)\n",
    "# Evaluate training accuracy\n",
    "'''ADD SOME CODE HERE'''\n",
    "train_results = dtc2.predict(x_train)\n",
    "accuracy = accuracy_score(y_train, train_results)\n",
    "print(f'Trained decision tree with {accuracy:.5f} accuracy') # checking the rest of the decimal\n",
    "# Check size of decision tree\n",
    "'''ADD SOME CODE HERE'''\n",
    "num_leaves = dtc2.get_n_leaves()\n",
    "\n",
    "# Report results\n",
    "print('Trained decision tree with {} leaves and test accuracy {:.2f}.'.format(num_leaves, accuracy))"
   ]
  },
  {
   "cell_type": "markdown",
   "id": "415c6b58-4f9e-4d22-b9c0-914b22aea0f9",
   "metadata": {},
   "source": [
    "# Part 3: Auditing a decision tree for demographic biases\n",
    "\n",
    ">Your training data includes several demographic variables (i.e., age, sex, race). A crude way to assess whether a model has some demographic bias is to remove the corresponding variables from your training data and explore how that removal affects your model's performance. Decision trees have the advantage of being interpretable machine learning models. By going through the decision nodes (i.e., branching points), you can \"open the black box and look inside\". Specifically, you can assess how each feature is used in the decision making process.\n",
    ">\n",
    ">This part includes two steps:\n",
    ">\n",
    ">1. Check for racial bias via performance assessment\n",
    ">2. Check for racial bias via decision rules\n",
    "  \n",
    "### Part 3, Step 2: Check for racial bias via performance assessment\n",
    "A simple approach to identifying demographic biases in machine learning is the following: (i) Train and validate the model on the full training set, (ii) train and validate the model on a subset of training variables that excludes the variables related to a potential demographic bias, (iii) compare the results. \n",
    "\n",
    "You have noticed that the validation accuracy of your model can vary for different holdout set selections. To account for these variations, you are going to compare the mean validation accuracy over 100 trees. (You have completed (i) in the previous cell already. Continue now with (ii).)"
   ]
  },
  {
   "cell_type": "code",
   "execution_count": 59,
   "id": "25f5e4e1-5487-4220-afcc-eeb1e228c8ec",
   "metadata": {
    "ExecuteTime": {
     "end_time": "2024-07-24T03:03:15.116284Z",
     "start_time": "2024-07-24T03:03:15.111537Z"
    }
   },
   "outputs": [
    {
     "name": "stdout",
     "output_type": "stream",
     "text": [
      "Trained decision tree with 6 leaves and test accuracy 0.67.\n"
     ]
    }
   ],
   "source": [
    "# Create subset of training data without information on race. \n",
    "# (The information on race was encoded in the one-hot features.)\n",
    "remaining_features = [v for v in X.columns if v not in one_hot_features]\n",
    "X_train_sub = x_train[remaining_features]\n",
    "X_test_sub = x_test[remaining_features]\n",
    "\n",
    "# Create a model\n",
    "dtc = DecisionTreeClassifier(max_leaf_nodes=6)\n",
    "    \n",
    "# Fit model to training data\n",
    "dtc.fit(X_train_sub, y_train['two_year_recid'])\n",
    "\n",
    "# Evaluate training accuracy\n",
    "y_pred = dtc.predict(X_test_sub)\n",
    "accuracy = (y_pred == y_test['two_year_recid']).mean()\n",
    "\n",
    "# Check size of decision tree\n",
    "num_leaves = dtc.get_n_leaves()\n",
    "\n",
    "# Report results\n",
    "print('Trained decision tree with {} leaves and test accuracy {:.2f}.'.format(num_leaves, accuracy))"
   ]
  },
  {
   "cell_type": "markdown",
   "id": "15e10fce-64ad-4f3c-95db-9e31a5e33568",
   "metadata": {},
   "source": [
    "Comparing the mean accuracy values on the all features versus the subselected feature set, what do you conclude about the importance of racial information in this classification problem?\n",
    "- The accuracy of the subselected feature set increases when the racial information is removed, suggesting that racial information leads to an overfitting or bad representation of the data. "
   ]
  },
  {
   "cell_type": "markdown",
   "id": "18654ba4-834b-49d8-b110-712844d5bf62",
   "metadata": {},
   "source": [
    "### Part 3, Step 3: Check for racial bias via decision rules\n",
    "The interpretability of decision trees allows for an alternative approach to detecting racial bias. You can simply look at the decision rules. Use the scit-kit learn's function `export_text` to get your decision tree in text format. Compare the decision rules of the your tree with all features and your tree fitted on the subset without racial information. Do you find any indication of racial bias in the decision rules of the first tree?"
   ]
  },
  {
   "cell_type": "code",
   "execution_count": 60,
   "id": "212a88fb-f48a-4081-87df-eb1ce5b69bc8",
   "metadata": {
    "ExecuteTime": {
     "end_time": "2024-07-24T03:03:15.164167Z",
     "start_time": "2024-07-24T03:03:15.117536Z"
    }
   },
   "outputs": [
    {
     "name": "stdout",
     "output_type": "stream",
     "text": [
      "Decision rules with Racial Information:\n",
      "\n",
      "|--- priors_count <= 1.50\n",
      "|   |--- age <= 22.50\n",
      "|   |   |--- class: 1\n",
      "|   |--- age >  22.50\n",
      "|   |   |--- class: 1\n",
      "|--- priors_count >  1.50\n",
      "|   |--- age <= 33.50\n",
      "|   |   |--- priors_count <= 7.50\n",
      "|   |   |   |--- class: 1\n",
      "|   |   |--- priors_count >  7.50\n",
      "|   |   |   |--- class: 1\n",
      "|   |--- age >  33.50\n",
      "|   |   |--- priors_count <= 5.50\n",
      "|   |   |   |--- class: 1\n",
      "|   |   |--- priors_count >  5.50\n",
      "|   |   |   |--- class: 1\n",
      "\n",
      "Decision rules without Racial Information:\n",
      "\n",
      "|--- priors_count <= 2.50\n",
      "|   |--- age <= 23.50\n",
      "|   |   |--- class: 1\n",
      "|   |--- age >  23.50\n",
      "|   |   |--- priors_count <= 0.50\n",
      "|   |   |   |--- class: 0\n",
      "|   |   |--- priors_count >  0.50\n",
      "|   |   |   |--- class: 0\n",
      "|--- priors_count >  2.50\n",
      "|   |--- age <= 33.50\n",
      "|   |   |--- class: 1\n",
      "|   |--- age >  33.50\n",
      "|   |   |--- priors_count <= 9.50\n",
      "|   |   |   |--- class: 0\n",
      "|   |   |--- priors_count >  9.50\n",
      "|   |   |   |--- class: 1\n"
     ]
    }
   ],
   "source": [
    "'''ADD SOME CODE HERE'''\n",
    "## Tree with all the features\n",
    "tree_rules_with_race = export_text(dtc2, feature_names=features)\n",
    "print(\"Decision rules with Racial Information:\\n\")\n",
    "print(tree_rules_with_race)\n",
    "\n",
    "## Tree without racial information\n",
    "print(\"Decision rules without Racial Information:\\n\")\n",
    "tree_rules_without_race = export_text(dtc, feature_names=remaining_features)\n",
    "print(tree_rules_without_race)"
   ]
  },
  {
   "cell_type": "markdown",
   "id": "1e82dfe8-9fd7-44f9-aca4-8e33f9203798",
   "metadata": {},
   "source": [
    "# Part 4: Comparison to other linear classifiers\n",
    "\n",
    ">For some types of data, decision trees tend to achieve lower prediction accuracies In this part, you will train and tune several classifiers on the COMPAS data. You will then compare their performance on your test set.\n",
    ">\n",
    ">This part includes three steps:\n",
    ">\n",
    ">1. Fit LDA and logistic regression\n",
    ">2. Tune and fit ensemble methods\n",
    ">3. Tune and fit SVC\n",
    ">4. Compare test accuracy of all your models "
   ]
  },
  {
   "cell_type": "markdown",
   "source": [
    "### 1. LDA and logistic regression"
   ],
   "metadata": {
    "collapsed": false
   },
   "id": "23a0233df3b7da14"
  },
  {
   "cell_type": "code",
   "outputs": [
    {
     "name": "stdout",
     "output_type": "stream",
     "text": [
      "Linear Discriminant Analysis Test Accuracy: 0.69094\n",
      "Logistic Regression Test Accuracy: 0.69417\n"
     ]
    }
   ],
   "source": [
    "## Importing the necessary packages\n",
    "from sklearn.discriminant_analysis import LinearDiscriminantAnalysis\n",
    "from sklearn.linear_model import LogisticRegression\n",
    "\n",
    "# Fitting LDA\n",
    "lda = LinearDiscriminantAnalysis()\n",
    "lda.fit(x_train, y_train['two_year_recid'])\n",
    "lda_predictions = lda.predict(x_test)\n",
    "lda_accuracy = accuracy_score(y_test['two_year_recid'], lda_predictions)\n",
    "print(f'Linear Discriminant Analysis Test Accuracy: {lda_accuracy:.5f}')\n",
    "\n",
    "# Fitting Logistic Regression\n",
    "logReg = LogisticRegression(max_iter=500)\n",
    "logReg.fit(x_train, y_train['two_year_recid'])\n",
    "logReg_predictions = logReg.predict(x_test)\n",
    "logReg_accuracy = accuracy_score(y_test['two_year_recid'], logReg_predictions)\n",
    "print(f'Logistic Regression Test Accuracy: {logReg_accuracy:.5f}')"
   ],
   "metadata": {
    "ExecuteTime": {
     "end_time": "2024-07-24T03:03:15.278431Z",
     "start_time": "2024-07-24T03:03:15.125220Z"
    }
   },
   "id": "e97edaf2-04da-4f12-aa8f-75847bd6e3ca",
   "execution_count": 61
  },
  {
   "cell_type": "markdown",
   "source": [
    "### 2. Tune and fit Ensemble Methods\n",
    "> Bagging, AdaBoosting, Gradient Boosting, Random Forest, Extra Trees, Voting Classifier "
   ],
   "metadata": {
    "collapsed": false
   },
   "id": "65654423a5e10f05"
  },
  {
   "cell_type": "code",
   "outputs": [
    {
     "name": "stdout",
     "output_type": "stream",
     "text": [
      "Random Forest Test Accuracy: 0.6715\n",
      "Gradient Boosting Test Accuracy: 0.6990\n",
      "AdaBoost Test Accuracy: 0.6958\n",
      "Bagging Test Accuracy: 0.6812\n",
      "Extra Trees Test Accuracy: 0.6877\n",
      "Voting Classifier Test Accuracy: 0.7006\n"
     ]
    }
   ],
   "source": [
    "## this takes some time\n",
    "from sklearn.ensemble import (\n",
    "    RandomForestClassifier, \n",
    "    GradientBoostingClassifier, \n",
    "    AdaBoostClassifier, \n",
    "    BaggingClassifier, \n",
    "    ExtraTreesClassifier, \n",
    "    VotingClassifier\n",
    ")\n",
    "from sklearn.model_selection import GridSearchCV\n",
    "from sklearn.metrics import accuracy_score\n",
    "\n",
    "# Random Forest\n",
    "rf = RandomForestClassifier(random_state=23)\n",
    "rf_params = {'n_estimators': [50, 100, 200], 'max_depth': [None, 10, 20, 30]}\n",
    "rf_grid = GridSearchCV(rf, rf_params, cv=5, scoring='accuracy')\n",
    "rf_grid.fit(x_train, y_train['two_year_recid'])\n",
    "rf_best = rf_grid.best_estimator_\n",
    "rf_preds = rf_best.predict(x_test)\n",
    "rf_accuracy = accuracy_score(y_test['two_year_recid'], rf_preds)\n",
    "print(f'Random Forest Test Accuracy: {rf_accuracy:.4f}')\n",
    "\n",
    "# Gradient Boosting\n",
    "gb = GradientBoostingClassifier(random_state=23)\n",
    "gb_params = {'n_estimators': [50, 100, 200], 'learning_rate': [0.01, 0.1, 0.2], 'max_depth': [3, 5, 7]}\n",
    "gb_grid = GridSearchCV(gb, gb_params, cv=5, scoring='accuracy')\n",
    "gb_grid.fit(x_train, y_train['two_year_recid'])\n",
    "gb_best = gb_grid.best_estimator_\n",
    "gb_preds = gb_best.predict(x_test)\n",
    "gb_accuracy = accuracy_score(y_test['two_year_recid'], gb_preds)\n",
    "print(f'Gradient Boosting Test Accuracy: {gb_accuracy:.4f}')\n",
    "\n",
    "# AdaBoost\n",
    "ada = AdaBoostClassifier(random_state=23)\n",
    "ada_params = {'n_estimators': [50, 100, 200], 'learning_rate': [0.01, 0.1, 0.2]}\n",
    "ada_grid = GridSearchCV(ada, ada_params, cv=5, scoring='accuracy')\n",
    "ada_grid.fit(x_train, y_train['two_year_recid'])\n",
    "ada_best = ada_grid.best_estimator_\n",
    "ada_preds = ada_best.predict(x_test)\n",
    "ada_accuracy = accuracy_score(y_test['two_year_recid'], ada_preds)\n",
    "print(f'AdaBoost Test Accuracy: {ada_accuracy:.4f}')\n",
    "\n",
    "# Bagging\n",
    "bag = BaggingClassifier(random_state=23)\n",
    "bag_params = {'n_estimators': [50, 100, 200], 'max_samples': [0.5, 0.7, 1.0], 'max_features': [0.5, 0.7, 1.0]}\n",
    "bag_grid = GridSearchCV(bag, bag_params, cv=5, scoring='accuracy')\n",
    "bag_grid.fit(x_train, y_train['two_year_recid'])\n",
    "bag_best = bag_grid.best_estimator_\n",
    "bag_preds = bag_best.predict(x_test)\n",
    "bag_accuracy = accuracy_score(y_test['two_year_recid'], bag_preds)\n",
    "print(f'Bagging Test Accuracy: {bag_accuracy:.4f}')\n",
    "\n",
    "# Extra Trees\n",
    "et = ExtraTreesClassifier(random_state=23)\n",
    "et_params = {'n_estimators': [50, 100, 200], 'max_depth': [None, 10, 20, 30]}\n",
    "et_grid = GridSearchCV(et, et_params, cv=5, scoring='accuracy')\n",
    "et_grid.fit(x_train, y_train['two_year_recid'])\n",
    "et_best = et_grid.best_estimator_\n",
    "et_preds = et_best.predict(x_test)\n",
    "et_accuracy = accuracy_score(y_test['two_year_recid'], et_preds)\n",
    "print(f'Extra Trees Test Accuracy: {et_accuracy:.4f}')\n",
    "\n",
    "# Voting Classifier\n",
    "voting_clf = VotingClassifier(\n",
    "    estimators=[\n",
    "        ('rf', rf_best), \n",
    "        ('gb', gb_best), \n",
    "        ('ada', ada_best), \n",
    "        ('bag', bag_best), \n",
    "        ('et', et_best)\n",
    "    ],\n",
    "    voting='soft'  # 'hard' for majority voting, 'soft' for weighted probabilities\n",
    ")\n",
    "\n",
    "voting_clf.fit(x_train, y_train['two_year_recid'])\n",
    "voting_preds = voting_clf.predict(x_test)\n",
    "voting_accuracy = accuracy_score(y_test['two_year_recid'], voting_preds)\n",
    "print(f'Voting Classifier Test Accuracy: {voting_accuracy:.4f}')"
   ],
   "metadata": {
    "collapsed": false,
    "ExecuteTime": {
     "end_time": "2024-07-24T03:05:39.027814Z",
     "start_time": "2024-07-24T03:03:15.290860Z"
    }
   },
   "id": "6a89d98cf4c8417b",
   "execution_count": 62
  },
  {
   "cell_type": "markdown",
   "source": [
    "### 3. Tune and fit SVC"
   ],
   "metadata": {
    "collapsed": false
   },
   "id": "22725b620bdf3a05"
  },
  {
   "cell_type": "code",
   "outputs": [
    {
     "name": "stdout",
     "output_type": "stream",
     "text": [
      "SVC Test Accuracy: 0.6958\n"
     ]
    }
   ],
   "source": [
    "# Initialize the Support Vector Classifier, this also takes time to go through\n",
    "svc = SVC() \n",
    "# Define the hyperparameters and their possible values to be searched during Grid Search\n",
    "svc_params = {'C': [0.1, 1, 10],  # 'C' is the regularization parameter. A smaller 'C' makes the decision surface smoother, while a larger 'C' aims to classify all training examples correctly. Here we test 0.1, 1, and 10.\n",
    "'kernel': ['linear', 'rbf'],  # 'kernel' specifies the kernel type to be used in the algorithm.\n",
    "                                  # 'linear' is for linear kernel, 'rbf' is for the Radial Basis Function kernel.\n",
    "'gamma': ['scale', 'auto']  # 'gamma' defines how far the influence of a single training example reaches, \n",
    "                                # with low values meaning 'far' and high values meaning 'close'.\n",
    "                                # 'scale' uses 1 / (n_features * X.var()) as the value of gamma.\n",
    "                                # 'auto' uses 1 / n_features.\n",
    "}\n",
    "# Initialize GridSearchCV to perform an exhaustive search over specified parameter values for the SVC model\n",
    "svc_grid = GridSearchCV(\n",
    "    svc,  # The estimator or model to be optimized, in this case, the Support Vector Classifier\n",
    "    svc_params,  # Dictionary of parameters to search, as defined above\n",
    "    cv=5,  # Number of cross-validation folds, here 5-fold cross-validation is used\n",
    "    scoring='accuracy'  # The performance metric to evaluate the models, here 'accuracy' is used\n",
    ")\n",
    "\n",
    "# Fit the GridSearchCV to the training data to find the best hyperparameter combination\n",
    "svc_grid.fit(x_train, y_train['two_year_recid'])\n",
    "# 'y_train['two_year_recid']' contains the target variable, indicating whether a two-year recidivism event occurred\n",
    "\n",
    "# Retrieve the best estimator found by GridSearchCV after fitting\n",
    "svc_best = svc_grid.best_estimator_\n",
    "\n",
    "# Use the best model to make predictions on the test data\n",
    "svc_preds = svc_best.predict(x_test)\n",
    "# 'svc_preds' will store the predicted labels for the test set\n",
    "# Calculate the accuracy score of the predictions against the true test labels\n",
    "svc_accuracy = accuracy_score(y_test['two_year_recid'], svc_preds)\n",
    "# 'y_test['two_year_recid']' contains the actual labels for the test data\n",
    "# 'accuracy_score' computes the ratio of correctly predicted labels to the total number of predictions\n",
    "# Print the accuracy score, formatted to four decimal places\n",
    "print(f'SVC Test Accuracy: {svc_accuracy:.4f}')"
   ],
   "metadata": {
    "collapsed": false,
    "ExecuteTime": {
     "end_time": "2024-07-24T03:07:23.531208Z",
     "start_time": "2024-07-24T03:05:39.026576Z"
    }
   },
   "id": "67a2f300a535b2a7",
   "execution_count": 63
  },
  {
   "cell_type": "markdown",
   "source": [
    "### 4.Comparing all Models "
   ],
   "metadata": {
    "collapsed": false
   },
   "id": "9dc13213842ef6c0"
  },
  {
   "cell_type": "code",
   "outputs": [
    {
     "name": "stdout",
     "output_type": "stream",
     "text": [
      "\n",
      "Model Accuracies Sorted by Performance:\n",
      "                 Model  Accuracy\n",
      "8    Voting Classifier  0.700647\n",
      "4    Gradient Boosting  0.699029\n",
      "5             AdaBoost  0.695793\n",
      "9                  SVC  0.695793\n",
      "2  Logistic Regression  0.694175\n",
      "1                  LDA  0.690939\n",
      "7          Extra Trees  0.687702\n",
      "6              Bagging  0.681230\n",
      "0        Decision Tree  0.671521\n",
      "3        Random Forest  0.671521\n"
     ]
    },
    {
     "data": {
      "text/plain": "<Figure size 1200x800 with 1 Axes>",
      "image/png": "[encoded data removed]"
     },
     "metadata": {},
     "output_type": "display_data"
    },
    {
     "data": {
      "text/plain": "<Figure size 1000x600 with 2 Axes>",
      "image/png": "[encoded data removed]"
     },
     "metadata": {},
     "output_type": "display_data"
    }
   ],
   "source": [
    "#Printing all the accuracies to compare all models\n",
    "# Create a DataFrame to store model names and their accuracies\n",
    "accuracy_df = pd.DataFrame({\n",
    "    'Model': [\n",
    "        'Decision Tree', \n",
    "        'LDA', \n",
    "        'Logistic Regression', \n",
    "        'Random Forest', \n",
    "        'Gradient Boosting', \n",
    "        'AdaBoost', \n",
    "        'Bagging', \n",
    "        'Extra Trees', \n",
    "        'Voting Classifier', \n",
    "        'SVC'\n",
    "    ],\n",
    "    'Accuracy': [\n",
    "        accuracy, \n",
    "        lda_accuracy, \n",
    "        logReg_accuracy, \n",
    "        rf_accuracy, \n",
    "        gb_accuracy, \n",
    "        ada_accuracy, \n",
    "        bag_accuracy, \n",
    "        et_accuracy, \n",
    "        voting_accuracy, \n",
    "        svc_accuracy\n",
    "    ]\n",
    "})\n",
    "\n",
    "# Sort the DataFrame by Accuracy in descending order\n",
    "accuracy_df = accuracy_df.sort_values(by='Accuracy', ascending=False)\n",
    "\n",
    "# Display the DataFrame\n",
    "print(\"\\nModel Accuracies Sorted by Performance:\")\n",
    "print(accuracy_df)\n",
    "\n",
    "### Now Visualizating the Plot\n",
    "# Create a bar chart to visualize model accuracies\n",
    "plt.figure(figsize=(12, 8))  # Set the figure size for better readability\n",
    "plt.bar(accuracy_df['Model'], accuracy_df['Accuracy'], color='skyblue')  # Plot a bar for each model\n",
    "\n",
    "# Add labels and title to the plot\n",
    "plt.xlabel('Models')\n",
    "plt.ylabel('Accuracy')\n",
    "plt.title('Comparison of Model Accuracies')\n",
    "\n",
    "# Rotate x-axis labels for better readability\n",
    "plt.xticks(rotation=45, ha='right')\n",
    "\n",
    "# Add accuracy values on top of the bars\n",
    "for index, value in enumerate(accuracy_df['Accuracy']):\n",
    "    plt.text(index, value, f'{value:.4f}', ha='center', va='bottom')\n",
    "\n",
    "# Display the plot\n",
    "plt.tight_layout()\n",
    "plt.show()\n",
    "### HeatMap idea\n",
    "import seaborn as sns\n",
    "\n",
    "# Create a heatmap to visualize the model accuracies\n",
    "plt.figure(figsize=(10, 6))\n",
    "sns.heatmap(accuracy_df.set_index('Model').T, annot=True, cmap='YlGnBu', fmt=\".4f\")\n",
    "\n",
    "# Set titles and labels\n",
    "plt.title('Model Accuracy Heatmap')\n",
    "plt.ylabel('Accuracy')\n",
    "\n",
    "# Show the plot\n",
    "plt.tight_layout()\n",
    "plt.show()"
   ],
   "metadata": {
    "collapsed": false,
    "ExecuteTime": {
     "end_time": "2024-07-24T03:07:23.968780Z",
     "start_time": "2024-07-24T03:07:23.538030Z"
    }
   },
   "id": "90b121bc64adcf19",
   "execution_count": 64
  },
  {
   "cell_type": "markdown",
   "source": [
    "### Analysis\n",
    "Comparing all the model accuracies, it is interesting to see that AdaBoost, gradient boosting, and voting classifier are usually in the top 3 accuracies when re-running the code. The worst is Bagging, RF, and Decision Tree usually, but these models only differ by +-4% at most. Very cool Homework overall!"
   ],
   "metadata": {
    "collapsed": false
   },
   "id": "df565a0ef08b657f"
  }
 ],
 "metadata": {
  "kernelspec": {
   "display_name": "Python 3 (ipykernel)",
   "language": "python",
   "name": "python3"
  },
  "language_info": {
   "codemirror_mode": {
    "name": "ipython",
    "version": 3
   },
   "file_extension": ".py",
   "mimetype": "text/x-python",
   "name": "python",
   "nbconvert_exporter": "python",
   "pygments_lexer": "ipython3",
   "version": "3.11.9"
  }
 },
 "nbformat": 4,
 "nbformat_minor": 5
}
